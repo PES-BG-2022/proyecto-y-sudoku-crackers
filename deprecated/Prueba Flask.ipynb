{
 "cells": [
  {
   "cell_type": "code",
   "execution_count": 12,
   "metadata": {},
   "outputs": [
    {
     "name": "stdout",
     "output_type": "stream",
     "text": [
      "[[1 6 2 3 8 7 4 9 5]\n",
      " [9 3 7 5 4 6 8 2 1]\n",
      " [8 5 4 9 2 1 3 6 7]\n",
      " [6 7 9 8 5 4 1 3 2]\n",
      " [4 8 1 2 7 3 6 5 9]\n",
      " [3 2 5 1 6 9 7 4 8]\n",
      " [5 4 8 7 3 2 9 1 6]\n",
      " [7 1 6 4 9 5 2 8 3]\n",
      " [2 9 3 6 1 8 5 7 4]]\n"
     ]
    },
    {
     "name": "stderr",
     "output_type": "stream",
     "text": [
      "127.0.0.1 - - [20/Jan/2022 00:20:42] \"GET / HTTP/1.1\" 200 -\n"
     ]
    },
    {
     "name": "stdout",
     "output_type": "stream",
     "text": [
      " * Serving Flask app \"__main__\" (lazy loading)\n",
      " * Environment: production\n",
      "\u001b[31m   WARNING: This is a development server. Do not use it in a production deployment.\u001b[0m\n",
      "\u001b[2m   Use a production WSGI server instead.\u001b[0m\n",
      " * Debug mode: off\n"
     ]
    },
    {
     "name": "stderr",
     "output_type": "stream",
     "text": [
      " * Running on http://127.0.0.1:5000/ (Press CTRL+C to quit)\n",
      "127.0.0.1 - - [20/Jan/2022 00:20:47] \"GET / HTTP/1.1\" 200 -\n"
     ]
    }
   ],
   "source": [
    "from flask import Flask\n",
    "from flask import request\n",
    "from flask import render_template\n",
    "import numpy as np\n",
    "import sudoku as sud\n",
    "\n",
    "app = Flask(__name__)\n",
    "\n",
    "\n",
    "@app.route('/')\n",
    "def index():\n",
    "    return render_template(\"index.html\", nombre = name, edad = age, sudoku = solucion)\n",
    "\n",
    " \n",
    "#funciona con esta URL: http://127.0.0.1:5000/params?params1=Juan_Manuel&params2=Jimenez_Cruz\n",
    "#?params=1\n",
    "#@app.route('/params')\n",
    "#def saluda():\n",
    "#    param1 = request.args.get(\"params1\",\"no contiene este parametro\")\n",
    "#    param2 = request.args.get(\"params2\",\"no contiene este parametro\")\n",
    "#    return f\"El parametro es {param1} {param2}\"\n",
    "\n",
    "\n",
    "if __name__ == '__main__':\n",
    "    name = \"Juan Manuel\"\n",
    "    age = 25\n",
    "\n",
    "    sudoku   = sud.parsemap(\"sudoku3.txt\")\n",
    "    solucion = sud.resolver(\"sudoku3.txt\")\n",
    "    app.run(debug=True)"
   ]
  },
  {
   "cell_type": "code",
   "execution_count": null,
   "metadata": {},
   "outputs": [],
   "source": []
  }
 ],
 "metadata": {
  "interpreter": {
   "hash": "b3ba2566441a7c06988d0923437866b63cedc61552a5af99d1f4fb67d367b25f"
  },
  "kernelspec": {
   "display_name": "Python 3.9.7 64-bit ('base': conda)",
   "language": "python",
   "name": "python3"
  },
  "language_info": {
   "codemirror_mode": {
    "name": "ipython",
    "version": 3
   },
   "file_extension": ".py",
   "mimetype": "text/x-python",
   "name": "python",
   "nbconvert_exporter": "python",
   "pygments_lexer": "ipython3",
   "version": "3.9.7"
  },
  "orig_nbformat": 4
 },
 "nbformat": 4,
 "nbformat_minor": 2
}
