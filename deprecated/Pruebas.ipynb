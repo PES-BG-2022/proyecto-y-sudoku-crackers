{
 "cells": [
  {
   "cell_type": "code",
   "execution_count": 1,
   "metadata": {},
   "outputs": [],
   "source": [
    "import numpy as np\n",
    "import tkinter\n"
   ]
  },
  {
   "cell_type": "code",
   "execution_count": 8,
   "metadata": {},
   "outputs": [],
   "source": [
    "def parsemap(filename: str):\n",
    "    \"\"\"Obtiene un np.ndarray para representar el mapa de energías desde el\n",
    "    archivo filename\"\"\"\n",
    "    with open(filename) as f:\n",
    "        input = f.readlines()\n",
    "    energymap = []\n",
    "    for s in input: \n",
    "        row = []\n",
    "        for c in s: \n",
    "            if c != \"\\n\": row.append(int(c))\n",
    "        energymap.append(row)\n",
    "    return np.array(energymap)"
   ]
  },
  {
   "cell_type": "code",
   "execution_count": 10,
   "metadata": {},
   "outputs": [
    {
     "name": "stdout",
     "output_type": "stream",
     "text": [
      "[[0 0 2 0 0 1 0 3 9]\n",
      " [0 0 0 0 0 0 0 0 0]\n",
      " [0 0 6 8 3 2 7 0 0]\n",
      " [0 0 9 2 7 0 0 8 0]\n",
      " [2 8 0 0 9 3 0 6 0]\n",
      " [7 0 0 0 0 8 5 0 0]\n",
      " [0 0 0 7 0 4 6 0 0]\n",
      " [0 0 0 0 5 0 9 4 0]\n",
      " [0 6 4 3 0 0 0 0 5]]\n"
     ]
    }
   ],
   "source": [
    "sudoku = parsemap('sudoku.txt')"
   ]
  },
  {
   "cell_type": "code",
   "execution_count": 46,
   "metadata": {},
   "outputs": [],
   "source": [
    "#crear una ventana\n",
    "ventana = tkinter.Tk()\n",
    "ventana.geometry(\"500x500\")\n",
    "\n",
    "def saludo(nombre):\n",
    "    print(\"Hola \"+nombre)\n",
    "\n",
    "etiqueta = tkinter.Label(ventana, text = \"Hola mundo\", bg=\"grey\") #crea una etiqueta\n",
    "etiqueta.pack(fill=tkinter.X, expand = 1) #método más simple para mostrar\n",
    "\n",
    "#boton1 = tkinter.Button(ventana,text=\"Presiona\", command = lambda: saludo(\"Python\"))\n",
    "#boton1 = tkinter.Button(ventana,text=\"Click\", command = lambda: print(\"Hola mundo\"))\n",
    "\n",
    "cajaTexto = tkinter.Entry(ventana, font=\"Helvetica 30\")\n",
    "cajaTexto.pack()\n",
    "\n",
    "boton1 = tkinter.Button(ventana,text=\"Click\", command = lambda: textoDeLaCaja())\n",
    "boton1.pack()\n",
    "\n",
    "def textoDeLaCaja():\n",
    "    input=cajaTexto.get()\n",
    "    #print(input)\n",
    "    etiqueta[\"text\"]=input\n",
    "\n",
    "etiqueta =tkinter.Label(ventana)\n",
    "etiqueta.pack()\n",
    "\n",
    "ventana.mainloop() #lleva el registro de todo lo que sucede en la ventana"
   ]
  },
  {
   "cell_type": "code",
   "execution_count": 1,
   "metadata": {},
   "outputs": [
    {
     "data": {
      "text/plain": [
       "1"
      ]
     },
     "execution_count": 1,
     "metadata": {},
     "output_type": "execute_result"
    }
   ],
   "source": [
    "len([3])"
   ]
  },
  {
   "cell_type": "code",
   "execution_count": 2,
   "metadata": {},
   "outputs": [
    {
     "data": {
      "text/plain": [
       "0"
      ]
     },
     "execution_count": 2,
     "metadata": {},
     "output_type": "execute_result"
    }
   ],
   "source": [
    "len([])"
   ]
  },
  {
   "cell_type": "code",
   "execution_count": 4,
   "metadata": {},
   "outputs": [
    {
     "data": {
      "text/plain": [
       "False"
      ]
     },
     "execution_count": 4,
     "metadata": {},
     "output_type": "execute_result"
    }
   ],
   "source": [
    "[]==True"
   ]
  },
  {
   "cell_type": "code",
   "execution_count": 8,
   "metadata": {},
   "outputs": [
    {
     "data": {
      "text/plain": [
       "True"
      ]
     },
     "execution_count": 8,
     "metadata": {},
     "output_type": "execute_result"
    }
   ],
   "source": [
    "[1,2,3]!=[] "
   ]
  },
  {
   "cell_type": "code",
   "execution_count": 10,
   "metadata": {},
   "outputs": [
    {
     "ename": "AttributeError",
     "evalue": "'list' object has no attribute 'size'",
     "output_type": "error",
     "traceback": [
      "\u001b[1;31m---------------------------------------------------------------------------\u001b[0m",
      "\u001b[1;31mAttributeError\u001b[0m                            Traceback (most recent call last)",
      "\u001b[1;32mC:\\Users\\JUANMA~1\\AppData\\Local\\Temp/ipykernel_30792/273147239.py\u001b[0m in \u001b[0;36m<module>\u001b[1;34m\u001b[0m\n\u001b[1;32m----> 1\u001b[1;33m \u001b[1;33m[\u001b[0m\u001b[1;36m1\u001b[0m\u001b[1;33m,\u001b[0m\u001b[1;36m2\u001b[0m\u001b[1;33m,\u001b[0m\u001b[1;36m3\u001b[0m\u001b[1;33m]\u001b[0m\u001b[1;33m.\u001b[0m\u001b[0msize\u001b[0m\u001b[1;33m(\u001b[0m\u001b[1;33m)\u001b[0m\u001b[1;33m>\u001b[0m\u001b[1;36m0\u001b[0m\u001b[1;33m\u001b[0m\u001b[1;33m\u001b[0m\u001b[0m\n\u001b[0m",
      "\u001b[1;31mAttributeError\u001b[0m: 'list' object has no attribute 'size'"
     ]
    }
   ],
   "source": [
    "[1,2,3].size()>0"
   ]
  },
  {
   "cell_type": "code",
   "execution_count": null,
   "metadata": {},
   "outputs": [],
   "source": []
  }
 ],
 "metadata": {
  "interpreter": {
   "hash": "b3ba2566441a7c06988d0923437866b63cedc61552a5af99d1f4fb67d367b25f"
  },
  "kernelspec": {
   "display_name": "Python 3.9.7 64-bit ('base': conda)",
   "language": "python",
   "name": "python3"
  },
  "language_info": {
   "codemirror_mode": {
    "name": "ipython",
    "version": 3
   },
   "file_extension": ".py",
   "mimetype": "text/x-python",
   "name": "python",
   "nbconvert_exporter": "python",
   "pygments_lexer": "ipython3",
   "version": "3.9.7"
  },
  "orig_nbformat": 4
 },
 "nbformat": 4,
 "nbformat_minor": 2
}
