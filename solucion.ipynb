{
 "cells": [
  {
   "cell_type": "code",
   "execution_count": 72,
   "metadata": {},
   "outputs": [],
   "source": [
    "import numpy as np\n",
    "def parsemap(filename: str):\n",
    "    \"\"\"Obtiene un np.ndarray para representar el mapa de energías desde el\n",
    "    archivo filename\"\"\"\n",
    "    with open(filename) as f:\n",
    "        input = f.readlines()\n",
    "    energymap = []\n",
    "    for s in input: \n",
    "        row = []\n",
    "        for c in s: \n",
    "            if c != \"\\n\": row.append(int(c))\n",
    "        energymap.append(row)\n",
    "    return np.array(energymap)\n",
    "    \n",
    "a = parsemap(\"sodoku2.txt\")\n",
    "m, n = a.shape\n"
   ]
  },
  {
   "cell_type": "code",
   "execution_count": 62,
   "metadata": {},
   "outputs": [],
   "source": [
    "#dividir por secciones los cuadros\n",
    "#def cuadro (fila, columna, numero, a):\n",
    "    #0 para la primera seccion, 3 para la segunda seccion, 6 para la tercera seccion\n",
    "#    x = (fila // 3)*3\n",
    "#    y = (columna // 3)*3\n",
    "\n",
    "    #haciendo la verificacion\n",
    "#    for i in range (0,3):\n",
    "#        for j in range(0,3):\n",
    "            #x y y, es la posicion inicial (sumando i chequea los otros 2):\n",
    "#            if a[x+i][y+j] == numero:\n",
    "#                return False\n",
    "#            else:\n",
    "#                return True"
   ]
  },
  {
   "cell_type": "code",
   "execution_count": 73,
   "metadata": {},
   "outputs": [],
   "source": [
    "def posibilidad (fila, columna, numero, a):\n",
    "     #Chequeando si el numero aparece en la fila\n",
    "    for i in range (0,9):\n",
    "        if a[fila][i] == numero:\n",
    "            return False\n",
    "\n",
    "    #chequeando si el numero aparece en la columna\n",
    "    for i in range (0,9):\n",
    "        if a[i][columna] == numero:\n",
    "            return False\n",
    "\n",
    "    #chequear si esta en el cuadro de 3x3\n",
    "    x = (fila // 3) * 3\n",
    "    y = (columna // 3) * 3\n",
    "\n",
    "    #haciendo la verificacion\n",
    "    for i in range (0,3):\n",
    "        for j in range(0,3):\n",
    "            #x y y, es la posicion inicial (sumando i chequea los otros 2):\n",
    "            if a[x+i][y+j] == numero:\n",
    "                return False\n",
    "    return True\n",
    "            "
   ]
  },
  {
   "cell_type": "code",
   "execution_count": 70,
   "metadata": {},
   "outputs": [
    {
     "data": {
      "text/plain": [
       "False"
      ]
     },
     "execution_count": 70,
     "metadata": {},
     "output_type": "execute_result"
    }
   ],
   "source": [
    "#posibilidad(1,1,8,parsemap(\"sodoku1.txt\"))"
   ]
  },
  {
   "cell_type": "code",
   "execution_count": 74,
   "metadata": {},
   "outputs": [
    {
     "name": "stdout",
     "output_type": "stream",
     "text": [
      "[[9 6 3 1 7 4 2 5 8]\n",
      " [1 7 8 3 2 5 6 4 9]\n",
      " [2 5 4 6 8 9 7 3 1]\n",
      " [8 2 1 4 3 7 5 9 6]\n",
      " [4 9 6 8 5 2 3 1 7]\n",
      " [7 3 5 9 6 1 8 2 4]\n",
      " [5 8 9 7 1 3 4 6 2]\n",
      " [3 1 7 2 4 6 9 8 5]\n",
      " [6 4 2 5 9 8 1 7 3]]\n"
     ]
    }
   ],
   "source": [
    "# solucion 2\n",
    "def sol(sodoku):\n",
    "    for x in range(m):\n",
    "        for y in range(n):\n",
    "            if sodoku[x][y] == 0:\n",
    "                for valor in range (1,10):\n",
    "                    if posibilidad(x, y, valor, sodoku):\n",
    "                        sodoku[x][y] = valor\n",
    "                        sol(sodoku)\n",
    "                        sodoku[x][y] = 0\n",
    "                return\n",
    "    print(sodoku)\n",
    "    return\n",
    "\n",
    "sol(a)\n",
    "    "
   ]
  }
 ],
 "metadata": {
  "interpreter": {
   "hash": "b3ba2566441a7c06988d0923437866b63cedc61552a5af99d1f4fb67d367b25f"
  },
  "kernelspec": {
   "display_name": "Python 3.9.7 64-bit ('base': conda)",
   "language": "python",
   "name": "python3"
  },
  "language_info": {
   "codemirror_mode": {
    "name": "ipython",
    "version": 3
   },
   "file_extension": ".py",
   "mimetype": "text/x-python",
   "name": "python",
   "nbconvert_exporter": "python",
   "pygments_lexer": "ipython3",
   "version": "3.9.7"
  },
  "orig_nbformat": 4
 },
 "nbformat": 4,
 "nbformat_minor": 2
}
