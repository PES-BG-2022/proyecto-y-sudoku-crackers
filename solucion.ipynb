{
 "cells": [
  {
   "cell_type": "code",
   "execution_count": 76,
   "metadata": {},
   "outputs": [],
   "source": [
    "import numpy as np\n",
    "def parsemap(filename: str):\n",
    "    \"\"\"Obtiene un np.ndarray para representar el mapa de energías desde el\n",
    "    archivo filename\"\"\"\n",
    "    with open(filename) as f:\n",
    "        input = f.readlines()\n",
    "    energymap = []\n",
    "    for s in input: \n",
    "        row = []\n",
    "        for c in s: \n",
    "            if c != \"\\n\": row.append(int(c))\n",
    "        energymap.append(row)\n",
    "    return np.array(energymap)\n",
    "    \n",
    "a = parsemap(\"sudoku1.txt\")\n",
    "m, n = a.shape\n"
   ]
  },
  {
   "cell_type": "code",
   "execution_count": 77,
   "metadata": {},
   "outputs": [],
   "source": [
    "#dividir por secciones los cuadros\n",
    "#def cuadro (fila, columna, numero, a):\n",
    "    #0 para la primera seccion, 3 para la segunda seccion, 6 para la tercera seccion\n",
    "#    x = (fila // 3)*3\n",
    "#    y = (columna // 3)*3\n",
    "\n",
    "    #haciendo la verificacion\n",
    "#    for i in range (0,3):\n",
    "#        for j in range(0,3):\n",
    "            #x y y, es la posicion inicial (sumando i chequea los otros 2):\n",
    "#            if a[x+i][y+j] == numero:\n",
    "#                return False\n",
    "#            else:\n",
    "#                return True"
   ]
  },
  {
   "cell_type": "code",
   "execution_count": 78,
   "metadata": {},
   "outputs": [],
   "source": [
    "def posibilidad (fila, columna, numero, a):\n",
    "     #Chequeando si el numero aparece en la fila\n",
    "    for i in range (0,9):\n",
    "        if a[fila][i] == numero:\n",
    "            return False\n",
    "\n",
    "    #chequeando si el numero aparece en la columna\n",
    "    for i in range (0,9):\n",
    "        if a[i][columna] == numero:\n",
    "            return False\n",
    "\n",
    "    #chequear si esta en el cuadro de 3x3\n",
    "    x = (fila // 3) * 3\n",
    "    y = (columna // 3) * 3\n",
    "\n",
    "    #haciendo la verificacion\n",
    "    for i in range (0,3):\n",
    "        for j in range(0,3):\n",
    "            #x y y, es la posicion inicial (sumando i chequea los otros 2):\n",
    "            if a[x+i][y+j] == numero:\n",
    "                return False\n",
    "    return True\n",
    "            "
   ]
  },
  {
   "cell_type": "code",
   "execution_count": 79,
   "metadata": {},
   "outputs": [],
   "source": [
    "#posibilidad(1,1,8,parsemap(\"sodoku1.txt\"))"
   ]
  },
  {
   "cell_type": "code",
   "execution_count": 80,
   "metadata": {},
   "outputs": [],
   "source": [
    "#solucion\n",
    "def sol(sodoku):\n",
    "    #verificar que no tenga valor la casilla, si no tiene valor es 0\n",
    "    for x in range(m):\n",
    "        for y in range(n):\n",
    "            if sodoku[x][y] == 0:\n",
    "                #prueba valores de 1-9, usando la funcion posibilidad, lo llena y si hay un punto que no puede avanzar mas\n",
    "                #usa la recursividad para regresar y probar otros valores, hasta encontrar la solucion\n",
    "                for valor in range (1,10):\n",
    "                    if posibilidad(x, y, valor, sodoku):\n",
    "                        sodoku[x][y] = valor\n",
    "                        solucionador = sol(sodoku)\n",
    "                        if solucionador:\n",
    "                            return True\n",
    "                        sodoku[x][y] = 0\n",
    "                return False\n",
    "    #print(sodoku)\n",
    "    return True\n",
    "    "
   ]
  },
  {
   "cell_type": "code",
   "execution_count": 81,
   "metadata": {},
   "outputs": [],
   "source": [
    "#imprimir sodoku\n",
    "def imprimir(a):\n",
    "    for l in a:\n",
    "        print(l)\n"
   ]
  },
  {
   "cell_type": "code",
   "execution_count": 82,
   "metadata": {},
   "outputs": [],
   "source": [
    "#x = sol(a)\n",
    "#imprimir(a)\n",
    "#type(a)"
   ]
  },
  {
   "cell_type": "code",
   "execution_count": 83,
   "metadata": {},
   "outputs": [
    {
     "data": {
      "text/plain": [
       "array([[5, 3, 4, 6, 7, 8, 9, 1, 2],\n",
       "       [6, 7, 2, 1, 9, 5, 3, 4, 8],\n",
       "       [1, 9, 8, 3, 4, 2, 5, 6, 7],\n",
       "       [8, 5, 9, 7, 6, 1, 4, 2, 3],\n",
       "       [4, 2, 6, 8, 5, 3, 7, 9, 1],\n",
       "       [7, 1, 3, 9, 2, 4, 8, 5, 6],\n",
       "       [9, 6, 1, 5, 3, 7, 2, 8, 4],\n",
       "       [2, 8, 7, 4, 1, 9, 6, 3, 5],\n",
       "       [3, 4, 5, 2, 8, 6, 1, 7, 9]])"
      ]
     },
     "execution_count": 83,
     "metadata": {},
     "output_type": "execute_result"
    }
   ],
   "source": [
    "def final():\n",
    "    sol(a)\n",
    "    #imprimir(a)\n",
    "    #type(a)\n",
    "\n",
    "    return a\n",
    "\n",
    "final()"
   ]
  }
 ],
 "metadata": {
  "interpreter": {
   "hash": "b3ba2566441a7c06988d0923437866b63cedc61552a5af99d1f4fb67d367b25f"
  },
  "kernelspec": {
   "display_name": "Python 3.9.7 64-bit ('base': conda)",
   "language": "python",
   "name": "python3"
  },
  "language_info": {
   "codemirror_mode": {
    "name": "ipython",
    "version": 3
   },
   "file_extension": ".py",
   "mimetype": "text/x-python",
   "name": "python",
   "nbconvert_exporter": "python",
   "pygments_lexer": "ipython3",
   "version": "3.9.7"
  },
  "orig_nbformat": 4
 },
 "nbformat": 4,
 "nbformat_minor": 2
}
