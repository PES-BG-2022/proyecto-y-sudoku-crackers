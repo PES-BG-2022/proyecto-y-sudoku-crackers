{
 "cells": [
  {
   "cell_type": "code",
   "execution_count": 5,
   "metadata": {},
   "outputs": [],
   "source": [
    "from flask import Flask\n",
    "from flask import request\n",
    "from flask import render_template\n",
    "import numpy as np\n",
    "import sudoku as sud\n",
    "\n",
    "app = Flask(__name__)\n",
    "\n",
    "\n",
    "@app.route('/')\n",
    "def index():\n",
    "    return render_template(\"index.html\", nombre = name, edad = age, sudoku = solucion)\n",
    "\n",
    " \n",
    "#funciona con esta URL: http://127.0.0.1:5000/params?params1=Juan_Manuel&params2=Jimenez_Cruz\n",
    "#?params=1\n",
    "#@app.route('/params')\n",
    "#def saluda():\n",
    "#    param1 = request.args.get(\"params1\",\"no contiene este parametro\")\n",
    "#    param2 = request.args.get(\"params2\",\"no contiene este parametro\")\n",
    "#    return f\"El parametro es {param1} {param2}\"\n",
    "\n",
    "\n",
    "if __name__ == '__main__':\n",
    "    name = \"Juan Manuel\"\n",
    "    age = 25\n",
    "\n",
    "    sudoku   = sud.parsemap(\"sudoku3.txt\")\n",
    "    solucion = sud.sol(sudoku)\n",
    "    app.run(port = 8000)#debug = True, port = 8000)"
   ]
  },
  {
   "cell_type": "code",
   "execution_count": null,
   "metadata": {},
   "outputs": [],
   "source": []
  }
 ],
 "metadata": {
  "interpreter": {
   "hash": "b3ba2566441a7c06988d0923437866b63cedc61552a5af99d1f4fb67d367b25f"
  },
  "kernelspec": {
   "display_name": "Python 3.9.7 64-bit ('base': conda)",
   "language": "python",
   "name": "python3"
  },
  "language_info": {
   "codemirror_mode": {
    "name": "ipython",
    "version": 3
   },
   "file_extension": ".py",
   "mimetype": "text/x-python",
   "name": "python",
   "nbconvert_exporter": "python",
   "pygments_lexer": "ipython3",
   "version": "3.9.7"
  },
  "orig_nbformat": 4
 },
 "nbformat": 4,
 "nbformat_minor": 2
}
