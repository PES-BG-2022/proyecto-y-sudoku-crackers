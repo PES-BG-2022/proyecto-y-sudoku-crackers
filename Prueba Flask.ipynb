{
 "cells": [
  {
   "cell_type": "code",
   "execution_count": 36,
   "metadata": {},
   "outputs": [
    {
     "name": "stdout",
     "output_type": "stream",
     "text": [
      " * Serving Flask app \"__main__\" (lazy loading)\n",
      " * Environment: production\n",
      "\u001b[31m   WARNING: This is a development server. Do not use it in a production deployment.\u001b[0m\n",
      "\u001b[2m   Use a production WSGI server instead.\u001b[0m\n",
      " * Debug mode: off\n"
     ]
    },
    {
     "name": "stderr",
     "output_type": "stream",
     "text": [
      " * Running on http://127.0.0.1:5000/ (Press CTRL+C to quit)\n",
      "[2022-01-18 18:50:08,423] ERROR in app: Exception on / [GET]\n",
      "Traceback (most recent call last):\n",
      "  File \"C:\\ProgramData\\Anaconda3\\lib\\site-packages\\flask\\app.py\", line 2447, in wsgi_app\n",
      "    response = self.full_dispatch_request()\n",
      "  File \"C:\\ProgramData\\Anaconda3\\lib\\site-packages\\flask\\app.py\", line 1952, in full_dispatch_request\n",
      "    rv = self.handle_user_exception(e)\n",
      "  File \"C:\\ProgramData\\Anaconda3\\lib\\site-packages\\flask\\app.py\", line 1821, in handle_user_exception\n",
      "    reraise(exc_type, exc_value, tb)\n",
      "  File \"C:\\ProgramData\\Anaconda3\\lib\\site-packages\\flask\\_compat.py\", line 39, in reraise\n",
      "    raise value\n",
      "  File \"C:\\ProgramData\\Anaconda3\\lib\\site-packages\\flask\\app.py\", line 1950, in full_dispatch_request\n",
      "    rv = self.dispatch_request()\n",
      "  File \"C:\\ProgramData\\Anaconda3\\lib\\site-packages\\flask\\app.py\", line 1936, in dispatch_request\n",
      "    return self.view_functions[rule.endpoint](**req.view_args)\n",
      "  File \"C:\\Users\\JUANMA~1\\AppData\\Local\\Temp/ipykernel_19880/3486887481.py\", line 11, in index\n",
      "    return render_template(\"index.html\", nombre = name, edad = age, sudoku = sudoku)\n",
      "  File \"C:\\ProgramData\\Anaconda3\\lib\\site-packages\\flask\\templating.py\", line 137, in render_template\n",
      "    return _render(\n",
      "  File \"C:\\ProgramData\\Anaconda3\\lib\\site-packages\\flask\\templating.py\", line 120, in _render\n",
      "    rv = template.render(context)\n",
      "  File \"C:\\ProgramData\\Anaconda3\\lib\\site-packages\\jinja2\\environment.py\", line 1090, in render\n",
      "    self.environment.handle_exception()\n",
      "  File \"C:\\ProgramData\\Anaconda3\\lib\\site-packages\\jinja2\\environment.py\", line 832, in handle_exception\n",
      "    reraise(*rewrite_traceback_stack(source=source))\n",
      "  File \"C:\\ProgramData\\Anaconda3\\lib\\site-packages\\jinja2\\_compat.py\", line 28, in reraise\n",
      "    raise value.with_traceback(tb)\n",
      "  File \"c:\\Users\\Juan Manuel\\Documents\\PES\\Programacion 1\\proyecto-final\\templates\\index.html\", line 1, in top-level template code\n",
      "    {% extends \"base/base.html\"%}\n",
      "  File \"C:\\ProgramData\\Anaconda3\\lib\\site-packages\\flask\\templating.py\", line 60, in get_source\n",
      "    return self._get_source_fast(environment, template)\n",
      "  File \"C:\\ProgramData\\Anaconda3\\lib\\site-packages\\flask\\templating.py\", line 89, in _get_source_fast\n",
      "    raise TemplateNotFound(template)\n",
      "jinja2.exceptions.TemplateNotFound: base/base.html\n",
      "127.0.0.1 - - [18/Jan/2022 18:50:08] \"GET / HTTP/1.1\" 500 -\n"
     ]
    }
   ],
   "source": [
    "from flask import Flask\n",
    "from flask import request\n",
    "from flask import render_template\n",
    "import numpy as np\n",
    "\n",
    "app = Flask(__name__)\n",
    "\n",
    "\n",
    "@app.route('/')\n",
    "def index():\n",
    "    return render_template(\"index.html\", nombre = name, edad = age, sudoku = sudoku)\n",
    "\n",
    " \n",
    "#funciona con esta URL: http://127.0.0.1:5000/params?params1=Juan_Manuel&params2=Jimenez_Cruz\n",
    "#?params=1\n",
    "#@app.route('/params')\n",
    "#def saluda():\n",
    "#    param1 = request.args.get(\"params1\",\"no contiene este parametro\")\n",
    "#    param2 = request.args.get(\"params2\",\"no contiene este parametro\")\n",
    "#    return f\"El parametro es {param1} {param2}\"\n",
    "\n",
    "\n",
    "def parsemap(filename: str):\n",
    "    \"\"\"Obtiene un np.ndarray para representar el mapa de energías desde el\n",
    "    archivo filename\"\"\"\n",
    "    with open(filename) as f:\n",
    "        input = f.readlines()\n",
    "    energymap = []\n",
    "    for s in input: \n",
    "        row = []\n",
    "        for c in s: \n",
    "            if c != \"\\n\": row.append(int(c))\n",
    "        energymap.append(row)\n",
    "    return np.array(energymap)\n",
    "\n",
    "if __name__ == '__main__':\n",
    "    name = \"Juan Manuel\"\n",
    "    age = 25\n",
    "    sudoku = parsemap('sudoku.txt')\n",
    "\n",
    "    app.run()#debug = True, port = 8000)"
   ]
  },
  {
   "cell_type": "code",
   "execution_count": null,
   "metadata": {},
   "outputs": [],
   "source": []
  }
 ],
 "metadata": {
  "interpreter": {
   "hash": "b3ba2566441a7c06988d0923437866b63cedc61552a5af99d1f4fb67d367b25f"
  },
  "kernelspec": {
   "display_name": "Python 3.9.7 64-bit ('base': conda)",
   "language": "python",
   "name": "python3"
  },
  "language_info": {
   "codemirror_mode": {
    "name": "ipython",
    "version": 3
   },
   "file_extension": ".py",
   "mimetype": "text/x-python",
   "name": "python",
   "nbconvert_exporter": "python",
   "pygments_lexer": "ipython3",
   "version": "3.9.7"
  },
  "orig_nbformat": 4
 },
 "nbformat": 4,
 "nbformat_minor": 2
}
